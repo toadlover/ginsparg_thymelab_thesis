{
 "cells": [
  {
   "cell_type": "code",
   "execution_count": null,
   "id": "77f96e81",
   "metadata": {},
   "outputs": [
    {
     "name": "stdout",
     "output_type": "stream",
     "text": [
      "Collecting package metadata (current_repodata.json): / WARNING conda.models.version:get_matcher(556): Using .* with relational operator is superfluous and deprecated and will be removed in a future version of conda. Your spec was 1.7.1.*, but conda is ignoring the .* and treating it as 1.7.1\n",
      "done\n",
      "Solving environment: unsuccessful initial attempt using frozen solve. Retrying with flexible solve.\n",
      "Solving environment: unsuccessful attempt using repodata from current_repodata.json, retrying with next repodata source.\n",
      "Collecting package metadata (repodata.json): \\ WARNING conda.models.version:get_matcher(556): Using .* with relational operator is superfluous and deprecated and will be removed in a future version of conda. Your spec was 1.9.0.*, but conda is ignoring the .* and treating it as 1.9.0\n",
      "WARNING conda.models.version:get_matcher(556): Using .* with relational operator is superfluous and deprecated and will be removed in a future version of conda. Your spec was 1.6.0.*, but conda is ignoring the .* and treating it as 1.6.0\n",
      "WARNING conda.models.version:get_matcher(556): Using .* with relational operator is superfluous and deprecated and will be removed in a future version of conda. Your spec was 1.8.0.*, but conda is ignoring the .* and treating it as 1.8.0\n",
      "done\n",
      "Solving environment: / \n",
      "The environment is inconsistent, please check the package plan carefully\n",
      "The following packages are causing the inconsistency:\n",
      "\n",
      "  - conda-forge/linux-64::jupyter_server==1.2.2=py37h89c1867_1\n",
      "  - conda-forge/linux-64::jupyter==1.0.0=py37h89c1867_5\n",
      "  - conda-forge/linux-64::widgetsnbextension==3.5.1=py37h89c1867_4\n",
      "  - conda-forge/linux-64::nbconvert==6.0.7=py37h89c1867_3\n",
      "  - conda-forge/linux-64::notebook==6.2.0=py37h89c1867_0\n",
      "  - conda-forge/linux-64::spyder==4.2.1=py37h89c1867_2\n",
      "  - conda-forge/noarch::jupyterlab==3.0.5=pyhd8ed1ab_0\n",
      "  - conda-forge/noarch::jupyterlab_server==2.1.3=pyhd8ed1ab_0\n",
      "  - defaults/linux-64::anaconda==custom=py37_1\n",
      "  - conda-forge/linux-64::pytest==6.2.2=py37h89c1867_0\n",
      "  - defaults/linux-64::_anaconda_depends==2020.07=py37_0\n",
      "  - conda-forge/noarch::nbclassic==0.2.6=pyhd8ed1ab_0\n",
      "  - conda-forge/noarch::ipywidgets==7.6.3=pyhd3deb0d_0\n",
      "| "
     ]
    }
   ],
   "source": [
    "!conda install -c conda-forge rdkit --solver=classic -y\n",
    "#source"
   ]
  },
  {
   "cell_type": "code",
   "execution_count": 2,
   "id": "b515e125",
   "metadata": {},
   "outputs": [
    {
     "ename": "ModuleNotFoundError",
     "evalue": "No module named 'rdkit'",
     "output_type": "error",
     "traceback": [
      "\u001b[0;31m---------------------------------------------------------------------------\u001b[0m",
      "\u001b[0;31mModuleNotFoundError\u001b[0m                       Traceback (most recent call last)",
      "Cell \u001b[0;32mIn[2], line 5\u001b[0m\n\u001b[1;32m      3\u001b[0m \u001b[38;5;28;01mimport\u001b[39;00m \u001b[38;5;21;01mseaborn\u001b[39;00m \u001b[38;5;28;01mas\u001b[39;00m \u001b[38;5;21;01msns\u001b[39;00m\n\u001b[1;32m      4\u001b[0m \u001b[38;5;28;01mimport\u001b[39;00m \u001b[38;5;21;01mmatplotlib\u001b[39;00m\u001b[38;5;21;01m.\u001b[39;00m\u001b[38;5;21;01mpyplot\u001b[39;00m \u001b[38;5;28;01mas\u001b[39;00m \u001b[38;5;21;01mplt\u001b[39;00m\n\u001b[0;32m----> 5\u001b[0m \u001b[38;5;28;01mfrom\u001b[39;00m \u001b[38;5;21;01mrdkit\u001b[39;00m \u001b[38;5;28;01mimport\u001b[39;00m Chem\n\u001b[1;32m      6\u001b[0m \u001b[38;5;28;01mfrom\u001b[39;00m \u001b[38;5;21;01mrdkit\u001b[39;00m\u001b[38;5;21;01m.\u001b[39;00m\u001b[38;5;21;01mChem\u001b[39;00m \u001b[38;5;28;01mimport\u001b[39;00m AllChem, DataStructs\n",
      "\u001b[0;31mModuleNotFoundError\u001b[0m: No module named 'rdkit'"
     ]
    }
   ],
   "source": [
    "import pandas as pd\n",
    "import numpy as np\n",
    "import seaborn as sns\n",
    "import matplotlib.pyplot as plt\n",
    "from rdkit import Chem\n",
    "from rdkit.Chem import AllChem, DataStructs"
   ]
  },
  {
   "cell_type": "code",
   "execution_count": null,
   "id": "21153f17",
   "metadata": {},
   "outputs": [],
   "source": [
    "\n",
    "\n",
    "# Load your CSV\n",
    "df = pd.read_csv('drug_summary_data.csv')\n",
    "\n",
    "# Step 1: Preprocess\n",
    "# Make sure the SMILES strings are valid\n",
    "df['mol'] = df['smiles'].apply(lambda x: Chem.MolFromSmiles(x))\n",
    "df = df[df['mol'].notnull()].copy()  # drop invalid molecules\n",
    "\n",
    "# Step 2: Calculate Morgan Fingerprints\n",
    "def get_morgan_fp(mol, radius=2, nBits=1024):\n",
    "    fp = AllChem.GetMorganFingerprintAsBitVect(mol, radius, nBits=nBits)\n",
    "    arr = np.zeros((nBits,), dtype=int)\n",
    "    DataStructs.ConvertToNumpyArray(fp, arr)\n",
    "    return arr\n",
    "\n",
    "df['fingerprint'] = df['mol'].apply(get_morgan_fp)\n",
    "\n",
    "# Step 3: Calculate SSMD vs DMSO group\n",
    "# Assumes \"group\" column contains a label like 'DMSO', 'Drug A', etc.\n",
    "# We compute SSMD for each non-DMSO group vs DMSO for each group\n",
    "\n",
    "def ssmd(x, y):\n",
    "    return (np.mean(x) - np.mean(y)) / np.sqrt(np.var(x) + np.var(y))\n",
    "\n",
    "# Collect SSMDs per group\n",
    "dmso_vals = df[df['group'] == 'DMSO']['normalized_rlu_10uM']\n",
    "ssmd_results = []\n",
    "\n",
    "for grp in df['group'].unique():\n",
    "    if grp == 'DMSO':\n",
    "        continue\n",
    "    grp_vals = df[df['group'] == grp]['normalized_rlu_10uM']\n",
    "    ssmd_val = ssmd(grp_vals, dmso_vals)\n",
    "    ssmd_results.append({'group': grp, 'SSMD_vs_DMSO': ssmd_val})\n",
    "\n",
    "ssmd_df = pd.DataFrame(ssmd_results)\n",
    "\n",
    "# Step 4: Merge SSMD results with main dataframe\n",
    "df = df.merge(ssmd_df, on='group', how='left')\n",
    "\n",
    "# Step 5: Plot SSMD Heatmap (1 value per group)\n",
    "plt.figure(figsize=(10, 6))\n",
    "ssmd_matrix = ssmd_df.pivot_table(index='group', values='SSMD_vs_DMSO')\n",
    "sns.heatmap(ssmd_matrix, annot=True, cmap='vlag', center=0, linewidths=0.5)\n",
    "plt.title('SSMD vs DMSO per Group')\n",
    "plt.xlabel('SSMD')\n",
    "plt.ylabel('Drug Group')\n",
    "plt.tight_layout()\n",
    "plt.show()"
   ]
  },
  {
   "cell_type": "code",
   "execution_count": null,
   "id": "6fa089b2",
   "metadata": {},
   "outputs": [],
   "source": []
  },
  {
   "cell_type": "code",
   "execution_count": null,
   "id": "337d91f3",
   "metadata": {},
   "outputs": [],
   "source": []
  }
 ],
 "metadata": {
  "anaconda-cloud": {},
  "kernelspec": {
   "display_name": "Python [conda env:.conda-cs665]",
   "language": "python",
   "name": "conda-env-.conda-cs665-py"
  },
  "language_info": {
   "codemirror_mode": {
    "name": "ipython",
    "version": 3
   },
   "file_extension": ".py",
   "mimetype": "text/x-python",
   "name": "python",
   "nbconvert_exporter": "python",
   "pygments_lexer": "ipython3",
   "version": "3.7.9"
  }
 },
 "nbformat": 4,
 "nbformat_minor": 5
}
