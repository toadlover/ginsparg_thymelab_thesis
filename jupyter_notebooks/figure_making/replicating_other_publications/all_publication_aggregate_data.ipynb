{
 "cells": [
  {
   "cell_type": "code",
   "execution_count": 1,
   "id": "a29b5844",
   "metadata": {},
   "outputs": [],
   "source": [
    "#The purpose of this notebook is to take in the paper_ligand_results and determine how many ligands we would have potentially noticed if we did discovery with them\n",
    "#We'll note if we would have kept the ligand if the intera tion count is >5 and either the ddg in the top 10 percentile with a real motif ratio of at least 0.25 or the real motif ratio was at least 0.5\n",
    "\n",
    "#initial import of relevant packages for graphing\n",
    "import pandas as pd\n",
    "import matplotlib.pyplot as plt\n",
    "import numpy as np\n",
    "from matplotlib.ticker import ScalarFormatter\n",
    "from matplotlib.ticker import FuncFormatter\n",
    "#https://stackoverflow.com/questions/32085531/importing-a-csv-file-into-python-to-make-scatterplots-and-histograms"
   ]
  },
  {
   "cell_type": "code",
   "execution_count": 2,
   "id": "09d6e717",
   "metadata": {},
   "outputs": [
    {
     "data": {
      "text/plain": [
       "'\\nKey for authors to match up with paper names\\nGryniukova et al - AI-powered_Virtual_Screening_of_Large_Compound_Libraries_leads_to_the_Discovery_of_Novel_Inhibitors_of_Sirtuin-1\\nZhou et al - An_artificial_intelligence_accelerated_virtual_screening_platform_for_drug_discovery\\nBeroza et al - Chemical_space_docking_enables_large-scale_structure-based_virtual_screening_to_discover_ROCK1_kinase_inhibitors\\nSingh, Fengling et al - Conformer_Params_files_for_Structure-Based_Discovery_of_Inhibitors_of_the_SARS-CoV-2_Nsp14_N7-Methyltransferase\\nGahbauer et al - Docking_for_EP4R_antagonists_active_against_inflammatory_pain\\nBender et al - Structure-Based_Discovery_of_a_NPFF1R_Antagonist_with_Analgesic_Activity\\nLiu et al - Structure-based_discovery_of_CFTR_potentiators_and_inhibitors\\nSingh, Seth et al - Structure-based_discovery_of_conformationally_selective_inhibitors_of_the_serotonin_transporter\\nManglik et al - Structure-based_discovery_of_opioid_analgesics_with_reduced_side_effects\\nAlon et al - Structures_of_the_sigma2_receptor_enable_docking_for_bioactive_ligand_discovery\\nSadybekov et al et al - Synthon-based_ligand_discovery_in_virtual_libraries_of_over_11_billion_compounds\\nLyu et al - Ultra-large_library_docking_for_discovering_new_chemotypes\\nStein et al - Virtual_discovery_of_melatonin_receptor_ligands_to_modulate_circadian_rhythms\\n'"
      ]
     },
     "execution_count": 2,
     "metadata": {},
     "output_type": "execute_result"
    }
   ],
   "source": [
    "\"\"\"\n",
    "Key for authors to match up with paper names\n",
    "Gryniukova et al - AI-powered_Virtual_Screening_of_Large_Compound_Libraries_leads_to_the_Discovery_of_Novel_Inhibitors_of_Sirtuin-1\n",
    "Zhou et al - An_artificial_intelligence_accelerated_virtual_screening_platform_for_drug_discovery\n",
    "MAYBE BAD Beroza et al - Chemical_space_docking_enables_large-scale_structure-based_virtual_screening_to_discover_ROCK1_kinase_inhibitors\n",
    "Singh, Fengling et al - Conformer_Params_files_for_Structure-Based_Discovery_of_Inhibitors_of_the_SARS-CoV-2_Nsp14_N7-Methyltransferase\n",
    "Gahbauer et al - Docking_for_EP4R_antagonists_active_against_inflammatory_pain\n",
    "Bender et al - Structure-Based_Discovery_of_a_NPFF1R_Antagonist_with_Analgesic_Activity\n",
    "INCOMPLETE Liu et al - Structure-based_discovery_of_CFTR_potentiators_and_inhibitors\n",
    "INCOMPLETE Singh, Seth et al - Structure-based_discovery_of_conformationally_selective_inhibitors_of_the_serotonin_transporter\n",
    "Manglik et al - Structure-based_discovery_of_opioid_analgesics_with_reduced_side_effects\n",
    "INCOMPLETE Alon et al - Structures_of_the_sigma2_receptor_enable_docking_for_bioactive_ligand_discovery\n",
    "MAYBE BAD Sadybekov et al et al - Synthon-based_ligand_discovery_in_virtual_libraries_of_over_11_billion_compounds\n",
    "INCOMPLETE Lyu et al - Ultra-large_library_docking_for_discovering_new_chemotypes\n",
    "INCOMPLETE Stein et al - Virtual_discovery_of_melatonin_receptor_ligands_to_modulate_circadian_rhythms\n",
    "\"\"\""
   ]
  },
  {
   "cell_type": "code",
   "execution_count": 42,
   "id": "016a7afa",
   "metadata": {},
   "outputs": [
    {
     "name": "stdout",
     "output_type": "stream",
     "text": [
      "                       found  not_found\n",
      "Gryniukova et al           0          0\n",
      "Zhou et al                 0          0\n",
      "Beroza et al               0          0\n",
      "Singh, Fengling et al      0          0\n",
      "Gahbauer et al             0          0\n",
      "Bender et al               0          0\n",
      "Liu et al                  0          0\n",
      "Singh, Seth et al          0          0\n",
      "Manglik et al              0          0\n",
      "Alon et al                 0          0\n",
      "Sadybekov et al            0          0\n",
      "Lyu et al                  0          0\n",
      "Stein et al                0          0\n"
     ]
    }
   ],
   "source": [
    "#create main dataframe that will hold counts for how the ligands fared\n",
    "#The data will be boiled down to a yes or no as to whether we would have noticed the ligands\n",
    "\n",
    "# Example publication names (unique identifiers)\n",
    "publication_names = [\"Gryniukova et al\", \"Zhou et al\", \"Beroza et al\", \"Singh, Fengling et al\", \"Gahbauer et al\", \"Bender et al\", \"Liu et al\", \"Singh, Seth et al\", \"Manglik et al\", \"Alon et al\", \"Sadybekov et al\", \"Lyu et al\", \"Stein et al\"]\n",
    "\n",
    "# Initialize the DataFrame with default values (e.g., zeros for integer values)\n",
    "main_df = pd.DataFrame({\n",
    "    \"found\": [0] * len(publication_names),      # Set initial integer values\n",
    "    \"not_found\": [0] * len(publication_names)\n",
    "}, index=publication_names)                     # Use publication names as row names\n",
    "\n",
    "print(main_df)"
   ]
  },
  {
   "cell_type": "code",
   "execution_count": 43,
   "id": "c5a41a0a",
   "metadata": {},
   "outputs": [
    {
     "name": "stdout",
     "output_type": "stream",
     "text": [
      "We would identify ligand Z31269192\n",
      "We would identify ligand Z26395449\n",
      "We would identify ligand Z240678214\n",
      "We would identify ligand Z26395518\n",
      "We would identify ligand Z254577874\n",
      "We would identify ligand Z32440384\n",
      "We would identify ligand Z26395441\n",
      "We would identify ligand Z26395442\n",
      "We would identify ligand Z26395438\n"
     ]
    }
   ],
   "source": [
    "#read in paper data\n",
    "#read in the data csv\n",
    "#AI powered\n",
    "#Gryniukova et al\n",
    "df = pd.read_csv(\"../../../benchmarking_other_papers/papers/AI-powered_Virtual_Screening_of_Large_Compound_Libraries_leads_to_the_Discovery_of_Novel_Inhibitors_of_Sirtuin-1/analysis_results/paper_ligands_rank.csv\")\n",
    "\n",
    "#number of ligands in the paper that we tried to work with\n",
    "num_ligands = 9\n",
    "\n",
    "#seed the main df not found column with the number of ligands, and we will take 1 from not found to found for each ligand that we would have found\n",
    "main_df.loc[\"Gryniukova et al\", \"not_found\"] = num_ligands\n",
    "\n",
    "#run through each ligand from the paper and determine if we would have kept it\n",
    "# Iterate through each row\n",
    "for index, row in df.iterrows():\n",
    "    #print(f\"Found: {row['found']}, Not Found: {row['not_found']}\")\n",
    "    lig_found = False\n",
    "    if row['best_interaction'] >= 6:\n",
    "        if (row['ddg_percentile'] <= 0.1 and row['best_real_motif_ratio'] >= 0.25) or row['best_real_motif_ratio'] >= 0.5:\n",
    "            lig_found = True\n",
    "            \n",
    "    if lig_found:\n",
    "        print(\"We would identify ligand \" + row['ligand'])\n",
    "        \n",
    "        #adjust counts\n",
    "        main_df.loc[\"Gryniukova et al\", \"not_found\"] = main_df.loc[\"Gryniukova et al\", \"not_found\"] - 1\n",
    "        main_df.loc[\"Gryniukova et al\", \"found\"] = main_df.loc[\"Gryniukova et al\", \"found\"] + 1\n",
    "    else:\n",
    "        print(\"We would not identify ligand \" + row['ligand'])"
   ]
  },
  {
   "cell_type": "code",
   "execution_count": 44,
   "id": "76e8856f",
   "metadata": {},
   "outputs": [
    {
     "data": {
      "text/plain": [
       "'\\ndf = pd.read_csv(\"../../../benchmarking_other_papers/papers/Synthon-based_ligand_discovery_in_virtual_libraries_of_over_11_billion_compounds/analysis_space/paper_ligands_rank.csv\")\\n\\n#number of ligands in the paper that we tried to work with\\nnum_ligands = 7\\n\\n#seed the main df not found column with the number of ligands, and we will take 1 from not found to found for each ligand that we would have found\\nmain_df.loc[\"Sadybekov et al\", \"not_found\"] = num_ligands\\n\\n#run through each ligand from the paper and determine if we would have kept it\\n# Iterate through each row\\nfor index, row in df.iterrows():\\n    #print(f\"Found: {row[\\'found\\']}, Not Found: {row[\\'not_found\\']}\")\\n    lig_found = False\\n    if row[\\'best_interaction\\'] >= 6:\\n        if (row[\\'ddg_percentile\\'] <= 0.1 and row[\\'best_real_motif_ratio\\'] >= 0.25) or row[\\'best_real_motif_ratio\\'] >= 0.5:\\n            lig_found = True\\n            \\n    if lig_found:\\n        print(\"We would identify ligand \" + row[\\'ligand\\'])\\n        \\n        #adjust counts\\n        main_df.loc[\"Sadybekov et al\", \"not_found\"] = main_df.loc[\"Sadybekov et al\", \"not_found\"] - 1\\n        main_df.loc[\"Sadybekov et al\", \"found\"] = main_df.loc[\"Sadybekov et al\", \"found\"] + 1\\n    else:\\n        print(\"We would not identify ligand \" + row[\\'ligand\\'])\\n'"
      ]
     },
     "execution_count": 44,
     "metadata": {},
     "output_type": "execute_result"
    }
   ],
   "source": [
    "#read in paper data\n",
    "#read in the data csv\n",
    "#Synthon\n",
    "#Sadybekov et al\n",
    "#this failed to get any actual placements, goign to hard code to all ligands fail\n",
    "\n",
    "main_df.loc[\"Sadybekov et al\", \"not_found\"] = 7\n",
    "\"\"\"\n",
    "df = pd.read_csv(\"../../../benchmarking_other_papers/papers/Synthon-based_ligand_discovery_in_virtual_libraries_of_over_11_billion_compounds/analysis_space/paper_ligands_rank.csv\")\n",
    "\n",
    "#number of ligands in the paper that we tried to work with\n",
    "num_ligands = 7\n",
    "\n",
    "#seed the main df not found column with the number of ligands, and we will take 1 from not found to found for each ligand that we would have found\n",
    "main_df.loc[\"Sadybekov et al\", \"not_found\"] = num_ligands\n",
    "\n",
    "#run through each ligand from the paper and determine if we would have kept it\n",
    "# Iterate through each row\n",
    "for index, row in df.iterrows():\n",
    "    #print(f\"Found: {row['found']}, Not Found: {row['not_found']}\")\n",
    "    lig_found = False\n",
    "    if row['best_interaction'] >= 6:\n",
    "        if (row['ddg_percentile'] <= 0.1 and row['best_real_motif_ratio'] >= 0.25) or row['best_real_motif_ratio'] >= 0.5:\n",
    "            lig_found = True\n",
    "            \n",
    "    if lig_found:\n",
    "        print(\"We would identify ligand \" + row['ligand'])\n",
    "        \n",
    "        #adjust counts\n",
    "        main_df.loc[\"Sadybekov et al\", \"not_found\"] = main_df.loc[\"Sadybekov et al\", \"not_found\"] - 1\n",
    "        main_df.loc[\"Sadybekov et al\", \"found\"] = main_df.loc[\"Sadybekov et al\", \"found\"] + 1\n",
    "    else:\n",
    "        print(\"We would not identify ligand \" + row['ligand'])\n",
    "\"\"\""
   ]
  },
  {
   "cell_type": "code",
   "execution_count": 45,
   "id": "34858955",
   "metadata": {},
   "outputs": [
    {
     "name": "stdout",
     "output_type": "stream",
     "text": [
      "We would identify ligand Z8739902234\n",
      "We would identify ligand Z8739902231\n",
      "We would identify ligand Z4315497494\n",
      "We would identify ligand Z8718594710\n",
      "We would identify ligand Z8718594701\n",
      "We would identify ligand Z8718594704\n",
      "We would identify ligand Z3831472882\n",
      "We would identify ligand Z4415557415\n",
      "We would identify ligand Z8739905023\n"
     ]
    }
   ],
   "source": [
    "#read in paper data\n",
    "#read in the data csv\n",
    "#an_artificial\n",
    "#Zhou et al\n",
    "df = pd.read_csv(\"../../../benchmarking_other_papers/papers/An_artificial_intelligence_accelerated_virtual_screening_platform_for_drug_discovery/analysis_space/paper_ligands_rank.csv\")\n",
    "\n",
    "#number of ligands in the paper that we tried to work with\n",
    "num_ligands = 9\n",
    "\n",
    "#seed the main df not found column with the number of ligands, and we will take 1 from not found to found for each ligand that we would have found\n",
    "main_df.loc[\"Zhou et al\", \"not_found\"] = num_ligands\n",
    "\n",
    "#run through each ligand from the paper and determine if we would have kept it\n",
    "# Iterate through each row\n",
    "for index, row in df.iterrows():\n",
    "    #print(f\"Found: {row['found']}, Not Found: {row['not_found']}\")\n",
    "    lig_found = False\n",
    "    if row['best_interaction'] >= 6:\n",
    "        if (row['ddg_percentile'] <= 0.1 and row['best_real_motif_ratio'] >= 0.25) or row['best_real_motif_ratio'] >= 0.5:\n",
    "            lig_found = True\n",
    "            \n",
    "    if lig_found:\n",
    "        print(\"We would identify ligand \" + row['ligand'])\n",
    "        \n",
    "        #adjust counts\n",
    "        main_df.loc[\"Zhou et al\", \"not_found\"] = main_df.loc[\"Zhou et al\", \"not_found\"] - 1\n",
    "        main_df.loc[\"Zhou et al\", \"found\"] = main_df.loc[\"Zhou et al\", \"found\"] + 1\n",
    "    else:\n",
    "        print(\"We would not identify ligand \" + row['ligand'])"
   ]
  },
  {
   "cell_type": "code",
   "execution_count": 46,
   "id": "39d32829",
   "metadata": {},
   "outputs": [
    {
     "data": {
      "text/plain": [
       "'\\ndf = pd.read_csv(\"../../../benchmarking_other_papers/papers/An_artificial_intelligence_accelerated_virtual_screening_platform_for_drug_discovery/analysis_space/paper_ligands_rank.csv\")\\n\\n#number of ligands in the paper that we tried to work with\\nnum_ligands = 9\\n\\n#seed the main df not found column with the number of ligands, and we will take 1 from not found to found for each ligand that we would have found\\nmain_df.loc[\"Zhou et al\", \"not_found\"] = num_ligands\\n\\n#run through each ligand from the paper and determine if we would have kept it\\n# Iterate through each row\\nfor index, row in df.iterrows():\\n    #print(f\"Found: {row[\\'found\\']}, Not Found: {row[\\'not_found\\']}\")\\n    lig_found = False\\n    if row[\\'best_interaction\\'] >= 6:\\n        if (row[\\'ddg_percentile\\'] <= 0.1 and row[\\'best_real_motif_ratio\\'] >= 0.25) or row[\\'best_real_motif_ratio\\'] >= 0.5:\\n            lig_found = True\\n            \\n    if lig_found:\\n        print(\"We would identify ligand \" + row[\\'ligand\\'])\\n        \\n        #adjust counts\\n        main_df.loc[\"Zhou et al\", \"not_found\"] = main_df.loc[\"Zhou et al\", \"not_found\"] - 1\\n        main_df.loc[\"Zhou et al\", \"found\"] = main_df.loc[\"Zhou et al\", \"found\"] + 1\\n    else:\\n        print(\"We would not identify ligand \" + row[\\'ligand\\'])\\n'"
      ]
     },
     "execution_count": 46,
     "metadata": {},
     "output_type": "execute_result"
    }
   ],
   "source": [
    "#read in paper data\n",
    "#read in the data csv\n",
    "#rock1\n",
    "#Beroza et al - Chemical_space_docking_enables_large-scale_structure-based_virtual_screening_to_discover_ROCK1_kinase_inhibitors\n",
    "#this failed to get any actual placements, goign to hard code to zero\n",
    "\n",
    "main_df.loc[\"Beroza et al\", \"not_found\"] = 27\n",
    "\n",
    "\"\"\"\n",
    "df = pd.read_csv(\"../../../benchmarking_other_papers/papers/An_artificial_intelligence_accelerated_virtual_screening_platform_for_drug_discovery/analysis_space/paper_ligands_rank.csv\")\n",
    "\n",
    "#number of ligands in the paper that we tried to work with\n",
    "num_ligands = 9\n",
    "\n",
    "#seed the main df not found column with the number of ligands, and we will take 1 from not found to found for each ligand that we would have found\n",
    "main_df.loc[\"Zhou et al\", \"not_found\"] = num_ligands\n",
    "\n",
    "#run through each ligand from the paper and determine if we would have kept it\n",
    "# Iterate through each row\n",
    "for index, row in df.iterrows():\n",
    "    #print(f\"Found: {row['found']}, Not Found: {row['not_found']}\")\n",
    "    lig_found = False\n",
    "    if row['best_interaction'] >= 6:\n",
    "        if (row['ddg_percentile'] <= 0.1 and row['best_real_motif_ratio'] >= 0.25) or row['best_real_motif_ratio'] >= 0.5:\n",
    "            lig_found = True\n",
    "            \n",
    "    if lig_found:\n",
    "        print(\"We would identify ligand \" + row['ligand'])\n",
    "        \n",
    "        #adjust counts\n",
    "        main_df.loc[\"Zhou et al\", \"not_found\"] = main_df.loc[\"Zhou et al\", \"not_found\"] - 1\n",
    "        main_df.loc[\"Zhou et al\", \"found\"] = main_df.loc[\"Zhou et al\", \"found\"] + 1\n",
    "    else:\n",
    "        print(\"We would not identify ligand \" + row['ligand'])\n",
    "\"\"\""
   ]
  },
  {
   "cell_type": "code",
   "execution_count": 47,
   "id": "7c1b3011",
   "metadata": {},
   "outputs": [
    {
     "name": "stdout",
     "output_type": "stream",
     "text": [
      "We would identify ligand Z5185631911\n",
      "We would identify ligand Z1907784975\n",
      "We would identify ligand Z2732986066\n",
      "We would identify ligand Z5185631889\n",
      "We would identify ligand Z5348530741\n",
      "We would identify ligand Z5348530683\n",
      "We would identify ligand Z4324535763\n",
      "We would identify ligand Z3343635604\n",
      "We would identify ligand Z5348530222\n",
      "We would not identify ligand Z5348530626\n"
     ]
    }
   ],
   "source": [
    "#read in paper data\n",
    "#read in the data csv\n",
    "#covid 5c0s\n",
    "#Singh, Fengling et al - Conformer_Params_files_for_Structure-Based_Discovery_of_Inhibitors_of_the_SARS-CoV-2_Nsp14_N7-Methyltransferase\n",
    "df = pd.read_csv(\"../../../benchmarking_other_papers/papers/Conformer_Params_files_for_Structure-Based_Discovery_of_Inhibitors_of_the_SARS-CoV-2_Nsp14_N7-Methyltransferase/5c8s/analysis_space/paper_ligands_rank.csv\")\n",
    "\n",
    "#number of ligands in the paper that we tried to work with\n",
    "num_ligands = 10\n",
    "\n",
    "#seed the main df not found column with the number of ligands, and we will take 1 from not found to found for each ligand that we would have found\n",
    "main_df.loc[\"Singh, Fengling et al\", \"not_found\"] = num_ligands\n",
    "\n",
    "#run through each ligand from the paper and determine if we would have kept it\n",
    "# Iterate through each row\n",
    "for index, row in df.iterrows():\n",
    "    #print(f\"Found: {row['found']}, Not Found: {row['not_found']}\")\n",
    "    lig_found = False\n",
    "    if row['best_interaction'] >= 6:\n",
    "        if (row['ddg_percentile'] <= 0.1 and row['best_real_motif_ratio'] >= 0.25) or row['best_real_motif_ratio'] >= 0.5:\n",
    "            lig_found = True\n",
    "            \n",
    "    if lig_found:\n",
    "        print(\"We would identify ligand \" + row['ligand'])\n",
    "        \n",
    "        #adjust counts\n",
    "        main_df.loc[\"Singh, Fengling et al\", \"not_found\"] = main_df.loc[\"Singh, Fengling et al\", \"not_found\"] - 1\n",
    "        main_df.loc[\"Singh, Fengling et al\", \"found\"] = main_df.loc[\"Singh, Fengling et al\", \"found\"] + 1\n",
    "    else:\n",
    "        print(\"We would not identify ligand \" + row['ligand'])"
   ]
  },
  {
   "cell_type": "code",
   "execution_count": 48,
   "id": "4f3be04d",
   "metadata": {},
   "outputs": [
    {
     "name": "stdout",
     "output_type": "stream",
     "text": [
      "We would identify ligand Z4647716479\n",
      "We would identify ligand Z4647716459\n",
      "We would identify ligand Z4875089799\n",
      "We would identify ligand Z4361714899\n",
      "We would identify ligand Z4361714947\n"
     ]
    }
   ],
   "source": [
    "#read in paper data\n",
    "#read in the data csv\n",
    "\n",
    "#Gahbauer et al - Docking_for_EP4R_antagonists_active_against_inflammatory_pain\n",
    "df = pd.read_csv(\"../../../benchmarking_other_papers/papers/Docking_for_EP4R_antagonists_active_against_inflammatory_pain/analysis_space/paper_ligands_rank.csv\")\n",
    "\n",
    "#number of ligands in the paper that we tried to work with\n",
    "num_ligands = 5\n",
    "\n",
    "#seed the main df not found column with the number of ligands, and we will take 1 from not found to found for each ligand that we would have found\n",
    "main_df.loc[\"Gahbauer et al\", \"not_found\"] = num_ligands\n",
    "\n",
    "#run through each ligand from the paper and determine if we would have kept it\n",
    "# Iterate through each row\n",
    "for index, row in df.iterrows():\n",
    "    #print(f\"Found: {row['found']}, Not Found: {row['not_found']}\")\n",
    "    lig_found = False\n",
    "    if row['best_interaction'] >= 6:\n",
    "        if (row['ddg_percentile'] <= 0.1 and row['best_real_motif_ratio'] >= 0.25) or row['best_real_motif_ratio'] >= 0.5:\n",
    "            lig_found = True\n",
    "            \n",
    "    if lig_found:\n",
    "        print(\"We would identify ligand \" + row['ligand'])\n",
    "        \n",
    "        #adjust counts\n",
    "        main_df.loc[\"Gahbauer et al\", \"not_found\"] = main_df.loc[\"Gahbauer et al\", \"not_found\"] - 1\n",
    "        main_df.loc[\"Gahbauer et al\", \"found\"] = main_df.loc[\"Gahbauer et al\", \"found\"] + 1\n",
    "    else:\n",
    "        print(\"We would not identify ligand \" + row['ligand'])"
   ]
  },
  {
   "cell_type": "code",
   "execution_count": 49,
   "id": "45006efe",
   "metadata": {},
   "outputs": [
    {
     "name": "stdout",
     "output_type": "stream",
     "text": [
      "We would identify ligand Z5075636300\n",
      "We would not identify ligand ZINC000725343470\n"
     ]
    }
   ],
   "source": [
    "#read in paper data\n",
    "#read in the data csv\n",
    "\n",
    "#Bender et al - Structure-Based_Discovery_of_a_NPFF1R_Antagonist_with_Analgesic_Activity\n",
    "df = pd.read_csv(\"../../../benchmarking_other_papers/papers/Structure-Based_Discovery_of_a_NPFF1R_Antagonist_with_Analgesic_Activity/analysis_space/paper_ligands_rank.csv\")\n",
    "\n",
    "#number of ligands in the paper that we tried to work with\n",
    "num_ligands = 2\n",
    "\n",
    "#seed the main df not found column with the number of ligands, and we will take 1 from not found to found for each ligand that we would have found\n",
    "main_df.loc[\"Bender et al\", \"not_found\"] = num_ligands\n",
    "\n",
    "#run through each ligand from the paper and determine if we would have kept it\n",
    "# Iterate through each row\n",
    "for index, row in df.iterrows():\n",
    "    #print(f\"Found: {row['found']}, Not Found: {row['not_found']}\")\n",
    "    lig_found = False\n",
    "    if row['best_interaction'] >= 6:\n",
    "        if (row['ddg_percentile'] <= 0.1 and row['best_real_motif_ratio'] >= 0.25) or row['best_real_motif_ratio'] >= 0.5:\n",
    "            lig_found = True\n",
    "            \n",
    "    if lig_found:\n",
    "        print(\"We would identify ligand \" + row['ligand'])\n",
    "        \n",
    "        #adjust counts\n",
    "        main_df.loc[\"Bender et al\", \"not_found\"] = main_df.loc[\"Bender et al\", \"not_found\"] - 1\n",
    "        main_df.loc[\"Bender et al\", \"found\"] = main_df.loc[\"Bender et al\", \"found\"] + 1\n",
    "    else:\n",
    "        print(\"We would not identify ligand \" + row['ligand'])"
   ]
  },
  {
   "cell_type": "code",
   "execution_count": 50,
   "id": "b500982f",
   "metadata": {},
   "outputs": [
    {
     "name": "stdout",
     "output_type": "stream",
     "text": [
      "We would identify ligand PZM21\n"
     ]
    }
   ],
   "source": [
    "#read in paper data\n",
    "#read in the data csv\n",
    "\n",
    "#Manglik et al - Structure-based_discovery_of_opioid_analgesics_with_reduced_side_effects\n",
    "df = pd.read_csv(\"../../../benchmarking_other_papers/papers/Structure-based_discovery_of_opioid_analgesics_with_reduced_side_effects/analysis_space/paper_ligands_rank.csv\")\n",
    "\n",
    "#number of ligands in the paper that we tried to work with\n",
    "num_ligands = 1\n",
    "\n",
    "#seed the main df not found column with the number of ligands, and we will take 1 from not found to found for each ligand that we would have found\n",
    "main_df.loc[\"Manglik et al\", \"not_found\"] = num_ligands\n",
    "\n",
    "#run through each ligand from the paper and determine if we would have kept it\n",
    "# Iterate through each row\n",
    "for index, row in df.iterrows():\n",
    "    #print(f\"Found: {row['found']}, Not Found: {row['not_found']}\")\n",
    "    lig_found = False\n",
    "    if row['best_interaction'] >= 6:\n",
    "        if (row['ddg_percentile'] <= 0.1 and row['best_real_motif_ratio'] >= 0.25) or row['best_real_motif_ratio'] >= 0.5:\n",
    "            lig_found = True\n",
    "            \n",
    "    if lig_found:\n",
    "        print(\"We would identify ligand \" + row['ligand'])\n",
    "        \n",
    "        #adjust counts\n",
    "        main_df.loc[\"Manglik et al\", \"not_found\"] = main_df.loc[\"Manglik et al\", \"not_found\"] - 1\n",
    "        main_df.loc[\"Manglik et al\", \"found\"] = main_df.loc[\"Manglik et al\", \"found\"] + 1\n",
    "    else:\n",
    "        print(\"We would not identify ligand \" + row['ligand'])"
   ]
  },
  {
   "cell_type": "code",
   "execution_count": null,
   "id": "9ef21ce0",
   "metadata": {},
   "outputs": [],
   "source": []
  },
  {
   "cell_type": "code",
   "execution_count": null,
   "id": "e0237ea1",
   "metadata": {},
   "outputs": [],
   "source": []
  },
  {
   "cell_type": "code",
   "execution_count": null,
   "id": "cee4f8e7",
   "metadata": {},
   "outputs": [],
   "source": []
  },
  {
   "cell_type": "code",
   "execution_count": null,
   "id": "f2ef0b03",
   "metadata": {},
   "outputs": [],
   "source": []
  },
  {
   "cell_type": "code",
   "execution_count": null,
   "id": "d1ab5634",
   "metadata": {},
   "outputs": [],
   "source": []
  },
  {
   "cell_type": "code",
   "execution_count": null,
   "id": "90976f27",
   "metadata": {},
   "outputs": [],
   "source": []
  },
  {
   "cell_type": "code",
   "execution_count": null,
   "id": "016f0362",
   "metadata": {},
   "outputs": [],
   "source": []
  },
  {
   "cell_type": "code",
   "execution_count": null,
   "id": "bdaa429a",
   "metadata": {},
   "outputs": [],
   "source": []
  },
  {
   "cell_type": "code",
   "execution_count": 51,
   "id": "607d7af3",
   "metadata": {},
   "outputs": [
    {
     "data": {
      "image/png": "[encoded data removed]",
      "text/plain": [
       "<Figure size 640x480 with 1 Axes>"
      ]
     },
     "metadata": {},
     "output_type": "display_data"
    }
   ],
   "source": [
    "#stacked bar plot to show the number of ligands that would be/would not be identified from each publication\n",
    "# Plot\n",
    "fig, ax = plt.subplots()\n",
    "\n",
    "# Plot the \"found\" bars in blue\n",
    "ax.bar(main_df.index, main_df['found'], color='blue', label='Found')\n",
    "\n",
    "# Plot the \"not_found\" bars in red, stacking them on top of \"found\"\n",
    "ax.bar(main_df.index, main_df['not_found'], bottom=main_df['found'], color='red', label='Not Found')\n",
    "\n",
    "# Add labels and legend\n",
    "ax.set_ylabel('Paper Ligand Count')\n",
    "ax.set_xlabel('Publication')\n",
    "ax.set_title('LigandDiscoverySearch Identification of Published Ligands')\n",
    "ax.legend()\n",
    "\n",
    "plt.xticks(rotation=90)  # Rotate x-axis labels if needed\n",
    "plt.tight_layout()  # Adjust layout for better fit\n",
    "plt.show()"
   ]
  },
  {
   "cell_type": "code",
   "execution_count": 52,
   "id": "01a54d9b",
   "metadata": {},
   "outputs": [
    {
     "name": "stdout",
     "output_type": "stream",
     "text": [
      "                       found  not_found\n",
      "Gryniukova et al           9          0\n",
      "Zhou et al                 9          0\n",
      "Beroza et al               0         27\n",
      "Singh, Fengling et al      9          1\n",
      "Gahbauer et al             5          0\n",
      "Bender et al               1          1\n",
      "Liu et al                  0          0\n",
      "Singh, Seth et al          0          0\n",
      "Manglik et al              1          0\n",
      "Alon et al                 0          0\n",
      "Sadybekov et al            0          7\n",
      "Lyu et al                  0          0\n",
      "Stein et al                0          0\n"
     ]
    }
   ],
   "source": [
    "#normalize all values to percentages\n",
    "print(main_df)"
   ]
  },
  {
   "cell_type": "code",
   "execution_count": 53,
   "id": "4d8da011",
   "metadata": {},
   "outputs": [
    {
     "name": "stdout",
     "output_type": "stream",
     "text": [
      "                       found  not_found  found_normalized  \\\n",
      "Gryniukova et al           9          0               1.0   \n",
      "Zhou et al                 9          0               1.0   \n",
      "Beroza et al               0         27               0.0   \n",
      "Singh, Fengling et al      9          1               0.9   \n",
      "Gahbauer et al             5          0               1.0   \n",
      "Bender et al               1          1               0.5   \n",
      "Manglik et al              1          0               1.0   \n",
      "Sadybekov et al            0          7               0.0   \n",
      "\n",
      "                       not_found_normalized  \n",
      "Gryniukova et al                        0.0  \n",
      "Zhou et al                              0.0  \n",
      "Beroza et al                            1.0  \n",
      "Singh, Fengling et al                   0.1  \n",
      "Gahbauer et al                          0.0  \n",
      "Bender et al                            0.5  \n",
      "Manglik et al                           0.0  \n",
      "Sadybekov et al                         1.0  \n"
     ]
    }
   ],
   "source": [
    "# Calculate the row sum\n",
    "main_df['row_sum'] = main_df['found'] + main_df['not_found']\n",
    "\n",
    "# Filter out rows with a sum of zero\n",
    "main_df = main_df[main_df['row_sum'] != 0]\n",
    "\n",
    "# Normalize the 'found' and 'not_found' columns into new columns\n",
    "main_df['found_normalized'] = main_df['found'] / main_df['row_sum']\n",
    "main_df['not_found_normalized'] = main_df['not_found'] / main_df['row_sum']\n",
    "\n",
    "# Drop the 'row_sum' column if not needed\n",
    "main_df = main_df.drop(columns=['row_sum'])\n",
    "\n",
    "print(main_df)"
   ]
  },
  {
   "cell_type": "code",
   "execution_count": 58,
   "id": "77a3536f",
   "metadata": {},
   "outputs": [
    {
     "data": {
      "image/png": "[encoded data removed]",
      "text/plain": [
       "<Figure size 640x480 with 1 Axes>"
      ]
     },
     "metadata": {},
     "output_type": "display_data"
    }
   ],
   "source": [
    "#stacked bar plot to show the number of ligands that would be/would not be identified from each publication\n",
    "# Plot\n",
    "fig, ax = plt.subplots()\n",
    "\n",
    "# Plot the \"found\" bars in blue\n",
    "ax.bar(main_df.index, main_df['found_normalized'], color='blue', label='Found')\n",
    "\n",
    "# Plot the \"not_found\" bars in red, stacking them on top of \"found\"\n",
    "ax.bar(main_df.index, main_df['not_found_normalized'], bottom=main_df['found_normalized'], color='red', label='Not Found')\n",
    "\n",
    "# Add labels and legend\n",
    "ax.set_ylabel('Proportion of Paper Ligands Identified')\n",
    "ax.set_xlabel('Publication')\n",
    "ax.set_title('LigandDiscoverySearch Identification of Published Ligands')\n",
    "ax.legend()\n",
    "\n",
    "plt.xticks(rotation=90)  # Rotate x-axis labels if needed\n",
    "plt.tight_layout()  # Adjust layout for better fit\n",
    "plt.show()"
   ]
  },
  {
   "cell_type": "code",
   "execution_count": null,
   "id": "a466650f",
   "metadata": {},
   "outputs": [],
   "source": []
  }
 ],
 "metadata": {
  "anaconda-cloud": {},
  "kernelspec": {
   "display_name": "Python 3 (ipykernel)",
   "language": "python",
   "name": "python3"
  },
  "language_info": {
   "codemirror_mode": {
    "name": "ipython",
    "version": 3
   },
   "file_extension": ".py",
   "mimetype": "text/x-python",
   "name": "python",
   "nbconvert_exporter": "python",
   "pygments_lexer": "ipython3",
   "version": "3.11.4"
  }
 },
 "nbformat": 4,
 "nbformat_minor": 5
}
