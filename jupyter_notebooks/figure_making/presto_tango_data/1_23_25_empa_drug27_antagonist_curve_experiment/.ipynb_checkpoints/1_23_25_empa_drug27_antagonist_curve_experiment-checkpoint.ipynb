{
 "cells": [
  {
   "cell_type": "code",
   "execution_count": null,
   "id": "5d44c295",
   "metadata": {},
   "outputs": [],
   "source": [
    "#import packages\n",
    "import pandas as pd\n",
    "import matplotlib.pyplot as plt\n",
    "import numpy as np"
   ]
  },
  {
   "cell_type": "code",
   "execution_count": null,
   "id": "40d110e5",
   "metadata": {},
   "outputs": [],
   "source": [
    "# Step 1: Load data\n",
    "drug1_data = pd.read_csv(\"drug_27_curve_data_1_23_25.csv\")\n",
    "drug2_data = pd.read_csv(\"empa_curve_data_1_23_25.csv\")"
   ]
  },
  {
   "cell_type": "code",
   "execution_count": null,
   "id": "705167e1",
   "metadata": {},
   "outputs": [],
   "source": []
  }
 ],
 "metadata": {
  "anaconda-cloud": {},
  "kernelspec": {
   "display_name": "Python 3 (ipykernel)",
   "language": "python",
   "name": "python3"
  }
 },
 "nbformat": 4,
 "nbformat_minor": 5
}
